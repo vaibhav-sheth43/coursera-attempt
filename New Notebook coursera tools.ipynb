{
    "cells": [
        {
            "cell_type": "markdown",
            "metadata": {},
            "source": "iT IS a Practice notebook for coursera material"
        },
        {
            "cell_type": "code",
            "execution_count": 10,
            "metadata": {},
            "outputs": [
                {
                    "data": {
                        "text/html": "<div>\n<style scoped>\n    .dataframe tbody tr th:only-of-type {\n        vertical-align: middle;\n    }\n\n    .dataframe tbody tr th {\n        vertical-align: top;\n    }\n\n    .dataframe thead th {\n        text-align: right;\n    }\n</style>\n<table border=\"1\" class=\"dataframe\">\n  <thead>\n    <tr style=\"text-align: right;\">\n      <th></th>\n      <th>airline</th>\n      <th>avail_seat_km_per_week</th>\n      <th>incidents_85_99</th>\n      <th>fatal_accidents_85_99</th>\n      <th>fatalities_85_99</th>\n      <th>incidents_00_14</th>\n      <th>fatal_accidents_00_14</th>\n      <th>fatalities_00_14</th>\n      <th>Unnamed: 8</th>\n    </tr>\n  </thead>\n  <tbody>\n    <tr>\n      <th>0</th>\n      <td>Aer Lingus</td>\n      <td>320906734</td>\n      <td>2</td>\n      <td>0</td>\n      <td>0</td>\n      <td>0</td>\n      <td>0</td>\n      <td>0</td>\n      <td>NaN</td>\n    </tr>\n    <tr>\n      <th>1</th>\n      <td>Aeroflot*</td>\n      <td>1197672318</td>\n      <td>76</td>\n      <td>14</td>\n      <td>128</td>\n      <td>6</td>\n      <td>1</td>\n      <td>88</td>\n      <td>NaN</td>\n    </tr>\n    <tr>\n      <th>2</th>\n      <td>Aerolineas Argentinas</td>\n      <td>385803648</td>\n      <td>6</td>\n      <td>0</td>\n      <td>0</td>\n      <td>1</td>\n      <td>0</td>\n      <td>0</td>\n      <td>NaN</td>\n    </tr>\n    <tr>\n      <th>3</th>\n      <td>Aeromexico*</td>\n      <td>596871813</td>\n      <td>3</td>\n      <td>1</td>\n      <td>64</td>\n      <td>5</td>\n      <td>0</td>\n      <td>0</td>\n      <td>NaN</td>\n    </tr>\n    <tr>\n      <th>4</th>\n      <td>Air Canada</td>\n      <td>1865253802</td>\n      <td>2</td>\n      <td>0</td>\n      <td>0</td>\n      <td>2</td>\n      <td>0</td>\n      <td>0</td>\n      <td>NaN</td>\n    </tr>\n  </tbody>\n</table>\n</div>",
                        "text/plain": "                 airline  avail_seat_km_per_week  incidents_85_99  \\\n0             Aer Lingus               320906734                2   \n1              Aeroflot*              1197672318               76   \n2  Aerolineas Argentinas               385803648                6   \n3            Aeromexico*               596871813                3   \n4             Air Canada              1865253802                2   \n\n   fatal_accidents_85_99  fatalities_85_99  incidents_00_14  \\\n0                      0                 0                0   \n1                     14               128                6   \n2                      0                 0                1   \n3                      1                64                5   \n4                      0                 0                2   \n\n   fatal_accidents_00_14  fatalities_00_14  Unnamed: 8  \n0                      0                 0         NaN  \n1                      1                88         NaN  \n2                      0                 0         NaN  \n3                      0                 0         NaN  \n4                      0                 0         NaN  "
                    },
                    "execution_count": 10,
                    "metadata": {},
                    "output_type": "execute_result"
                }
            ],
            "source": "# The code was removed by Watson Studio for sharing."
        },
        {
            "cell_type": "code",
            "execution_count": null,
            "metadata": {},
            "outputs": [],
            "source": ""
        }
    ],
    "metadata": {
        "kernelspec": {
            "display_name": "Python 3.7",
            "language": "python",
            "name": "python3"
        },
        "language_info": {
            "codemirror_mode": {
                "name": "ipython",
                "version": 3
            },
            "file_extension": ".py",
            "mimetype": "text/x-python",
            "name": "python",
            "nbconvert_exporter": "python",
            "pygments_lexer": "ipython3",
            "version": "3.7.9"
        }
    },
    "nbformat": 4,
    "nbformat_minor": 1
}